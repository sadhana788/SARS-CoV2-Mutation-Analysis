{
 "cells": [
  {
   "cell_type": "code",
   "execution_count": 1,
   "id": "513f9f55-a1f9-4a4c-8d2c-4c7e11779a9d",
   "metadata": {},
   "outputs": [],
   "source": [
    "import pandas as pd\n",
    "import sklearn"
   ]
  },
  {
   "cell_type": "code",
   "execution_count": 2,
   "id": "055b468b-8a06-4366-bb35-5211c62f9320",
   "metadata": {},
   "outputs": [
    {
     "name": "stdout",
     "output_type": "stream",
     "text": [
      "Requirement already satisfied: sqlalchemy in c:\\users\\iiita\\miniconda3\\envs\\my_env\\lib\\site-packages (2.0.43)\n",
      "Requirement already satisfied: greenlet>=1 in c:\\users\\iiita\\miniconda3\\envs\\my_env\\lib\\site-packages (from sqlalchemy) (3.2.4)\n",
      "Requirement already satisfied: typing-extensions>=4.6.0 in c:\\users\\iiita\\miniconda3\\envs\\my_env\\lib\\site-packages (from sqlalchemy) (4.14.1)\n",
      "Note: you may need to restart the kernel to use updated packages.\n"
     ]
    }
   ],
   "source": [
    "pip install sqlalchemy"
   ]
  },
  {
   "cell_type": "code",
   "execution_count": 3,
   "id": "2b31d005-017f-404d-ad9b-7a5b94aaeee1",
   "metadata": {},
   "outputs": [],
   "source": [
    "import sqlalchemy as sa"
   ]
  },
  {
   "cell_type": "code",
   "execution_count": 4,
   "id": "f6d9d7db-5b9c-4aeb-93f4-fbed5ee8d972",
   "metadata": {},
   "outputs": [],
   "source": [
    "from Bio import SeqIO"
   ]
  },
  {
   "cell_type": "code",
   "execution_count": 9,
   "id": "c9422a72-99a3-4109-a9c9-d47a56b6b9a7",
   "metadata": {},
   "outputs": [
    {
     "name": "stdout",
     "output_type": "stream",
     "text": [
      "Data loaded successfully into covid_data.db!\n"
     ]
    }
   ],
   "source": [
    "from Bio import SeqIO\n",
    "import pandas as pd\n",
    "import sqlalchemy as sa\n",
    "\n",
    "# 1. Database Connection\n",
    "engine = sa.create_engine('sqlite:///covid_data.db')\n",
    "\n",
    "# 2. Create Table\n",
    "with engine.connect() as conn:\n",
    "    conn.execute(sa.text(\"\"\"\n",
    "    CREATE TABLE IF NOT EXISTS variants (\n",
    "        accession_id VARCHAR PRIMARY KEY,\n",
    "        sequence TEXT,\n",
    "        host VARCHAR,\n",
    "        location VARCHAR,\n",
    "        collection_date DATE\n",
    "    );\n",
    "    \"\"\"))\n",
    "\n",
    "# 3. Read FASTA file and load into a DataFrame\n",
    "records = []\n",
    "for record in SeqIO.parse(\"COVID_sequence.fasta.fasta\", \"fasta\"):\n",
    "    description_parts = record.description.split(\" \")\n",
    "    \n",
    "    # Extract metadata from the description line\n",
    "    accession_id = description_parts[0]\n",
    "    host = 'N/A'\n",
    "    location = 'N/A'\n",
    "    collection_date = 'N/A'\n",
    "    \n",
    "    # Simple parsing logic based on description format\n",
    "    for part in description_parts:\n",
    "        if part.startswith('host='):\n",
    "            host = part.split('=')[1]\n",
    "        if part.startswith('location='):\n",
    "            location = part.split('=')[1]\n",
    "        if part.startswith('collection_date='):\n",
    "            collection_date = part.split('=')[1]\n",
    "            \n",
    "    records.append({\n",
    "        'accession_id': accession_id,\n",
    "        'sequence': str(record.seq),\n",
    "        'host': host,\n",
    "        'location': location,\n",
    "        'collection_date': collection_date\n",
    "    })\n",
    "\n",
    "df = pd.DataFrame(records)\n",
    "\n",
    "# 4. Load DataFrame into SQL Table\n",
    "df.to_sql('variants', engine, if_exists='replace', index=False)\n",
    "\n",
    "print(\"Data loaded successfully into covid_data.db!\")"
   ]
  },
  {
   "cell_type": "code",
   "execution_count": 10,
   "id": "b076c62b-b438-4358-a460-218ed371320c",
   "metadata": {},
   "outputs": [
    {
     "name": "stdout",
     "output_type": "stream",
     "text": [
      "  accession_id                                           sequence host  \\\n",
      "0   PH327906.1                                        TACAATCCCTC  N/A   \n",
      "1   PH327857.1  ATGTCAAGCTCTTCCTGGCTCCTTCTCAGCCTTGTTGCTGTAACTG...  N/A   \n",
      "2   PI050044.1  ATGAAACTTGTCTTCCTCGTCCTGCTGTTCCTCGGGGCCCTCGGAC...  N/A   \n",
      "3   PH403602.1                               AGGGGCCATCCACAGTCTTC  N/A   \n",
      "4   PH403601.1                               AGAAGGCTGGGGCTCATTTG  N/A   \n",
      "\n",
      "  location collection_date  \n",
      "0      N/A             N/A  \n",
      "1      N/A             N/A  \n",
      "2      N/A             N/A  \n",
      "3      N/A             N/A  \n",
      "4      N/A             N/A  \n"
     ]
    }
   ],
   "source": [
    "import pandas as pd\n",
    "import sqlalchemy as sa\n",
    "from Bio import SeqIO\n",
    "\n",
    "# Connect to your database and load data into a DataFrame\n",
    "engine = sa.create_engine('sqlite:///covid_data.db')\n",
    "query = \"SELECT * FROM variants\"\n",
    "df = pd.read_sql(query, engine)\n",
    "\n",
    "# Print the first 5 rows to verify the data\n",
    "print(df.head())"
   ]
  },
  {
   "cell_type": "code",
   "execution_count": 11,
   "id": "9cc206ee-538d-4b8a-b563-691f4bd9532c",
   "metadata": {},
   "outputs": [
    {
     "name": "stdout",
     "output_type": "stream",
     "text": [
      "Tables in the database: ['variants']\n"
     ]
    }
   ],
   "source": [
    "import sqlalchemy as sa\n",
    "\n",
    "# Connect to your database\n",
    "engine = sa.create_engine('sqlite:///covid_data.db')\n",
    "\n",
    "# Get the table names from the database\n",
    "inspector = sa.inspect(engine)\n",
    "table_names = inspector.get_table_names()\n",
    "\n",
    "print(\"Tables in the database:\", table_names)"
   ]
  },
  {
   "cell_type": "code",
   "execution_count": 12,
   "id": "92e46761-e4aa-469f-8ca7-8d2b8e7b3582",
   "metadata": {},
   "outputs": [
    {
     "name": "stdout",
     "output_type": "stream",
     "text": [
      "Fetching reference sequence from NCBI...\n",
      "Reference sequence fetched successfully.\n",
      "\n",
      "DataFrame with mutations:\n",
      "  accession_id                                           sequence host  \\\n",
      "0   PH327906.1                                        TACAATCCCTC  N/A   \n",
      "1   PH327857.1  ATGTCAAGCTCTTCCTGGCTCCTTCTCAGCCTTGTTGCTGTAACTG...  N/A   \n",
      "2   PI050044.1  ATGAAACTTGTCTTCCTCGTCCTGCTGTTCCTCGGGGCCCTCGGAC...  N/A   \n",
      "3   PH403602.1                               AGGGGCCATCCACAGTCTTC  N/A   \n",
      "4   PH403601.1                               AGAAGGCTGGGGCTCATTTG  N/A   \n",
      "\n",
      "  location collection_date                                          mutations  \n",
      "0      N/A             N/A          [A1T, T2A, T3C, A6T, G7C, G8C, T9C, T11C]  \n",
      "1      N/A             N/A  [T3G, A4T, A5C, G7A, T9C, T11C, A12T, A14C, C1...  \n",
      "2      N/A             N/A  [T3G, G7C, G8T, T10G, A12C, A14T, T18C, C19G, ...  \n",
      "3      N/A             N/A  [T2G, T3G, A4G, A5G, A6C, G7C, G8A, T10C, T11C...  \n",
      "4      N/A             N/A  [T2G, T3A, A5G, A6G, G7C, G8T, T9G, T10G, T11G...  \n"
     ]
    }
   ],
   "source": [
    "from Bio import SeqIO\n",
    "from Bio import Entrez\n",
    "import pandas as pd\n",
    "import sqlalchemy as sa\n",
    "\n",
    "# Apni email ID yahan daalein\n",
    "Entrez.email = \"sadhanaiiita636@gmail.com\" \n",
    "\n",
    "# Asli reference sequence ko NCBI se fetch karein\n",
    "print(\"Fetching reference sequence from NCBI...\")\n",
    "handle = Entrez.efetch(db=\"nucleotide\", id=\"NC_045512.2\", rettype=\"fasta\", retmode=\"text\")\n",
    "reference_record = SeqIO.read(handle, \"fasta\")\n",
    "reference_seq = str(reference_record.seq)\n",
    "\n",
    "print(\"Reference sequence fetched successfully.\")\n",
    "\n",
    "# Ab, apne database se data load karein\n",
    "engine = sa.create_engine('sqlite:///covid_data.db')\n",
    "df = pd.read_sql(\"SELECT * FROM variants\", engine)\n",
    "\n",
    "# Mutations dhoondhne ka function\n",
    "def find_mutations(variant_seq, ref_seq):\n",
    "    mutations = []\n",
    "    # Sirf pehle 1000 bases ki tulna karte hain taaki code jaldi chale\n",
    "    comparison_length = min(len(variant_seq), len(ref_seq), 1000)\n",
    "    \n",
    "    for i in range(comparison_length):\n",
    "        if i < len(variant_seq) and variant_seq[i] != ref_seq[i]:\n",
    "            mutation = f\"{ref_seq[i]}{i+1}{variant_seq[i]}\"\n",
    "            mutations.append(mutation)\n",
    "    return mutations\n",
    "\n",
    "# 'mutations' column banayein\n",
    "df['mutations'] = df['sequence'].apply(lambda x: find_mutations(x, reference_seq))\n",
    "\n",
    "# Naye DataFrame ko print karen\n",
    "print(\"\\nDataFrame with mutations:\")\n",
    "print(df.head())"
   ]
  },
  {
   "cell_type": "code",
   "execution_count": 13,
   "id": "6938a3b7-8840-439e-86de-a9da97176961",
   "metadata": {},
   "outputs": [
    {
     "name": "stdout",
     "output_type": "stream",
     "text": [
      "Top 10 Most Common Mutations:\n",
      "G7C: 11 times\n",
      "T9C: 11 times\n",
      "T11C: 11 times\n",
      "T3G: 10 times\n",
      "T2G: 10 times\n",
      "A14C: 8 times\n",
      "G8A: 8 times\n",
      "A5C: 7 times\n",
      "T13C: 7 times\n",
      "T18C: 6 times\n"
     ]
    }
   ],
   "source": [
    "from collections import Counter\n",
    "\n",
    "# mutations ke saare lists ko ek flat list mein badlein\n",
    "all_mutations = [mutation for sublist in df['mutations'] for mutation in sublist]\n",
    "\n",
    "# Har mutation ko count karein\n",
    "mutation_counts = Counter(all_mutations)\n",
    "\n",
    "# Sabse common 10 mutations print karein\n",
    "print(\"Top 10 Most Common Mutations:\")\n",
    "for mutation, count in mutation_counts.most_common(10):\n",
    "    print(f\"{mutation}: {count} times\")"
   ]
  },
  {
   "cell_type": "code",
   "execution_count": 21,
   "id": "224ddabe-bc5f-4664-ac9f-cc79efad2992",
   "metadata": {},
   "outputs": [
    {
     "data": {
      "image/png": "[encoded data removed]",
      "text/plain": [
       "<Figure size 1000x600 with 1 Axes>"
      ]
     },
     "metadata": {},
     "output_type": "display_data"
    }
   ],
   "source": [
    "import matplotlib.pyplot as plt\n",
    "import seaborn as sns\n",
    "\n",
    "# Top 10 mutations ko nikal lein\n",
    "top_10_mutations = mutation_counts.most_common(10)\n",
    "\n",
    "mutation_names = [item[0] for item in top_10_mutations]\n",
    "mutation_values = [item[1] for item in top_10_mutations]\n",
    "\n",
    "plt.figure(figsize=(10, 6))\n",
    "sns.barplot(x=mutation_values, y= mutation_names, hue=mutation_names, palette=\"viridis\", legend=False)\n",
    "plt.title('Top 10 Most Common SARS-CoV-2 Mutations')\n",
    "plt.xlabel('Mutation Count')\n",
    "plt.ylabel('Mutation')\n",
    "plt.show()\n"
   ]
  },
  {
   "cell_type": "code",
   "execution_count": null,
   "id": "93d6f30d-e11f-4439-a40c-555b2a9e34b5",
   "metadata": {},
   "outputs": [],
   "source": []
  }
 ],
 "metadata": {
  "kernelspec": {
   "display_name": "Python (my_env)",
   "language": "python",
   "name": "my_env"
  },
  "language_info": {
   "codemirror_mode": {
    "name": "ipython",
    "version": 3
   },
   "file_extension": ".py",
   "mimetype": "text/x-python",
   "name": "python",
   "nbconvert_exporter": "python",
   "pygments_lexer": "ipython3",
   "version": "3.11.13"
  }
 },
 "nbformat": 4,
 "nbformat_minor": 5
}
